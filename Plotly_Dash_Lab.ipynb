{
 "cells": [
  {
   "cell_type": "markdown",
   "metadata": {},
   "source": [
    "# Q0: import dash standard libraries"
   ]
  },
  {
   "cell_type": "code",
   "execution_count": null,
   "metadata": {},
   "outputs": [],
   "source": [
    "from dash import Dash, dcc, html, Input, Output\n",
    "import dash_bootstrap_components as dbc\n",
    "from jupyter_dash import JupyterDash\n",
    "import warnings\n",
    "import plotly.express as px\n",
    "import pandas as pd\n",
    "warnings.filterwarnings('ignore')"
   ]
  },
  {
   "cell_type": "markdown",
   "metadata": {},
   "source": [
    "# Q1: Make dash that prints \"Data Science\""
   ]
  },
  {
   "cell_type": "code",
   "execution_count": null,
   "metadata": {},
   "outputs": [],
   "source": [
    "app = JupyterDash('Test')\n",
    "\n",
    "app.layout = html.Div([\n",
    "    html.H1('Data Science')\n",
    "])\n",
    "\n",
    "if __name__ == '__main__':\n",
    "    app.run_server(port=8051)"
   ]
  },
  {
   "cell_type": "markdown",
   "metadata": {},
   "source": [
    "# Q2: Make dash that takes name input and outpt \"Welcome to Data Science dashboard {name}\""
   ]
  },
  {
   "cell_type": "code",
   "execution_count": null,
   "metadata": {},
   "outputs": [],
   "source": [
    "app = JupyterDash('Test')\n",
    "app.layout = html.Div([\n",
    "    dcc.Input(id='inputName'),\n",
    "\n",
    "    html.H1(id='output')\n",
    "])\n",
    "@app.callback(\n",
    "    Output('output','children'),\n",
    "    Input('inputName','value')\n",
    "\n",
    ")\n",
    "def update_output(n):\n",
    "    name=str(n)\n",
    "    return f\"Welcome to Data Science dashboard {name}\"\n",
    "if __name__ == '__main__':\n",
    "    app.run_server(port=8051)"
   ]
  },
  {
   "cell_type": "markdown",
   "metadata": {},
   "source": [
    "# Q3: Make Plotly-Dash that takes two inputs (numbers) and output 3 numbers x, y , z= x+y\n",
    "- hint: use html.Div, dcc.Input(type='number')"
   ]
  },
  {
   "cell_type": "code",
   "execution_count": null,
   "metadata": {},
   "outputs": [],
   "source": [
    "app = JupyterDash()\n",
    "\n",
    "app.layout =html.Div(\n",
    "    [\n",
    "        html.Br(),\n",
    "        dcc.Input(id=\"input1\", type=\"number\", placeholder=\"y\", style={'marginRight':'10px'}),\n",
    "        dcc.Input(id=\"input2\", type=\"number\", placeholder=\"x\", style={'marginRight':'10px'}),\n",
    "        html.Div(id=\"output\"),\n",
    "    ]\n",
    ")\n",
    "\n",
    "\n",
    "@app.callback(\n",
    "    Output(\"output\", \"children\"),\n",
    "    Input(\"input1\", \"value\"),\n",
    "    Input(\"input2\", \"value\"),\n",
    ")\n",
    "def update_output(input1, input2):\n",
    "    return input1+input2\n",
    "\n",
    "if __name__ == '__main__':\n",
    "    app.run_server(port=8051)"
   ]
  },
  {
   "cell_type": "markdown",
   "metadata": {},
   "source": [
    "# Q4.1: Make JubyterDash with Rangeslider from 1-15 with 6 option"
   ]
  },
  {
   "cell_type": "code",
   "execution_count": null,
   "metadata": {},
   "outputs": [],
   "source": [
    "app = JupyterDash('Test')\n",
    "\n",
    "app.layout = html.Div([\n",
    "dcc.RangeSlider(1, 15, 3, value=[1, 7], id='my-range-slider'),\n",
    "    \n",
    "    html.Div(id='output-container-range-slider')\n",
    "])\n",
    "\n",
    "if __name__ == '__main__':\n",
    "    app.run_server(port=8051)"
   ]
  },
  {
   "cell_type": "markdown",
   "metadata": {},
   "source": [
    "# Q4.2: add to the previous dash: Label, set default value on rangeslider as 7-10"
   ]
  },
  {
   "cell_type": "code",
   "execution_count": null,
   "metadata": {},
   "outputs": [],
   "source": [
    "app = JupyterDash('Test')\n",
    "\n",
    "app.layout = html.Div([\n",
    "    html.Label('Choose from RangeSlider'),\n",
    "    \n",
    "    dcc.RangeSlider(1, 15, 3, value=[7, 10], id='my-range-slider'),\n",
    "    \n",
    "    html.Div(id='output-container-range-slider')\n",
    "])\n",
    "\n",
    "if __name__ == '__main__':\n",
    "    app.run_server(port=8051)"
   ]
  },
  {
   "cell_type": "markdown",
   "metadata": {},
   "source": [
    "# Q5: Make 3 different Dcc types (Dropdown - Checkbox...) in one dash"
   ]
  },
  {
   "cell_type": "code",
   "execution_count": null,
   "metadata": {},
   "outputs": [],
   "source": [
    "app = JupyterDash('Test')\n",
    "\n",
    "app.layout = html.Div([\n",
    "    html.Label('Choose from RangeSlider'),\n",
    "    \n",
    "    dcc.RangeSlider(1, 15, 3, value=[7, 10], id='my-range-slider'),\n",
    "    html.Label('name'),\n",
    "    dcc.Input(id=\"input2\", type=\"text\"),\n",
    "    dcc.Checklist(\n",
    "        ['New York City', 'Montréal', 'San Francisco']\n",
    "    )\n",
    "])\n",
    "\n",
    "if __name__ == '__main__':\n",
    "    app.run_server(port=8051)"
   ]
  },
  {
   "cell_type": "markdown",
   "metadata": {},
   "source": [
    "# Q6: Make Plotly chart, then add it to a plotly_dash"
   ]
  },
  {
   "cell_type": "code",
   "execution_count": null,
   "metadata": {},
   "outputs": [],
   "source": [
    "df = pd.read_csv(\"titanic_passenger_list.csv\")\n",
    "df"
   ]
  },
  {
   "cell_type": "code",
   "execution_count": null,
   "metadata": {},
   "outputs": [],
   "source": [
    "fig = px.bar(df, x= \"embarked\" ,y=\"survived\" )\n",
    "fig.show()"
   ]
  },
  {
   "cell_type": "code",
   "execution_count": null,
   "metadata": {},
   "outputs": [],
   "source": [
    "app = JupyterDash(\n",
    "    __name__,\n",
    "    external_stylesheets = [dbc.themes.LUX]\n",
    ")\n",
    "\n",
    "app.layout = html.Div(children = [\n",
    "    dcc.Graph(figure=fig),\n",
    "])\n",
    "\n",
    "\n",
    "if __name__ == '__main__':\n",
    "    app.run_server(port=8051)"
   ]
  },
  {
   "cell_type": "markdown",
   "metadata": {},
   "source": [
    "# Q7: From our data make plotly-dash with suitble chart, and Dropdown.\n",
    "\n",
    "- Dropdown should contain at least 3 options, each one represents different column.\n",
    "- Add label to dropdown.\n",
    "- The chart data should change depending on the selected dropdown option."
   ]
  },
  {
   "cell_type": "code",
   "execution_count": null,
   "metadata": {},
   "outputs": [],
   "source": [
    "import pandas as pd\n",
    "import numpy as np\n",
    "df = pd.read_csv(\"titanic_passenger_list.csv\")\n",
    "df"
   ]
  },
  {
   "cell_type": "code",
   "execution_count": null,
   "metadata": {},
   "outputs": [],
   "source": [
    "x = df['embarked'].unique()\n",
    "list(x)"
   ]
  },
  {
   "cell_type": "code",
   "execution_count": null,
   "metadata": {},
   "outputs": [],
   "source": [
    "app = JupyterDash(external_stylesheets=[dbc.themes.LUX])\n",
    "\n",
    "# app layout\n",
    "app.layout = html.Div([\n",
    "    dcc.Dropdown(\n",
    "        id='my-drop',\n",
    "        options={\"S\": x[0], \"C\": x[1], \"Q\": x[3]}\n",
    "    ),\n",
    "\n",
    "    # garph\n",
    "    dcc.Graph(id='my-graph'),\n",
    "\n",
    "])\n",
    "\n",
    "@app.callback(\n",
    "    Output('my-graph', 'figure'),\n",
    "    Input('my-drop', 'value')\n",
    ")\n",
    "\n",
    "def update_graph(selected_geography):\n",
    "    fillter_df = df[df['embarked'] == selected_geography]\n",
    "    line_chart = px.line(fillter_df, x='embarked', y='survived')\n",
    "    return line_chart\n",
    "\n",
    "if __name__ == '__main__':\n",
    "    app.run_server(port=8051)"
   ]
  },
  {
   "cell_type": "markdown",
   "metadata": {},
   "source": [
    "# Q8: add 2 more charts to the prevoius Ploty-Dash"
   ]
  },
  {
   "cell_type": "code",
   "execution_count": null,
   "metadata": {},
   "outputs": [],
   "source": [
    "app = JupyterDash(external_stylesheets=[dbc.themes.LUX])\n",
    "\n",
    "fig2 = px.pie(\n",
    "    df, values='survived', names='sex', template='simple_white'\n",
    ")\n",
    "app.layout = html.Div([\n",
    "    dcc.Dropdown(\n",
    "        id='my-drop',\n",
    "        options={\"S\": x[0], \"C\": x[1], \"Q\": x[3]}\n",
    "    ),\n",
    "\n",
    "    # garph\n",
    "    dcc.Graph(id='my-graph'),\n",
    "    dcc.Graph(figure=fig),\n",
    "    dcc.Graph(figure=fig2)\n",
    "])\n",
    "\n",
    "@app.callback(\n",
    "    Output('my-graph', 'figure'),\n",
    "    Input('my-drop', 'value')\n",
    ")\n",
    "\n",
    "def update_graph(selected_geography):\n",
    "    fillter_df = df[df['embarked'] == selected_geography]\n",
    "    line_chart = px.line(fillter_df, x='embarked', y='survived')\n",
    "    return line_chart\n",
    "\n",
    "if __name__ == '__main__':\n",
    "    app.run_server(port=8051)"
   ]
  },
  {
   "cell_type": "markdown",
   "metadata": {},
   "source": [
    "# Q9: Search for \"Plotly Gallery\" and fetch for a graph and use it with our data.\n",
    "\n",
    "- Note: You need to put the resourse addres of fetched your grapth."
   ]
  },
  {
   "cell_type": "code",
   "execution_count": null,
   "metadata": {},
   "outputs": [],
   "source": [
    "figg = px.scatter(df, x=\"sex\", y=\"age\", color=\"sex\", title=\"A Plotly Express Figure\")\n",
    "figg.show()\n",
    "#https://plotly.com/python/creating-and-updating-figures/"
   ]
  },
  {
   "cell_type": "code",
   "execution_count": null,
   "metadata": {},
   "outputs": [],
   "source": [
    "app = JupyterDash(external_stylesheets=[dbc.themes.LUX])\n",
    "\n",
    "fig2 = px.pie(\n",
    "    df, values='survived', names='sex', template='simple_white'\n",
    ")\n",
    "app.layout = html.Div([\n",
    "\n",
    "    html.Br(),\n",
    "\n",
    "    html.H1('Avocado price dash app', style={'text-align':'center', 'color': 'white'}),\n",
    "\n",
    "    html.P('25-1-2023 wensday plotly dash', style={'text-align':'center', 'color': 'gray', 'padding': '20px'}),\n",
    "    dcc.Graph(figure=figg)\n",
    "])\n",
    "\n",
    "\n",
    "if __name__ == '__main__':\n",
    "    app.run_server(port=8051)"
   ]
  },
  {
   "cell_type": "markdown",
   "metadata": {},
   "source": [
    "# Challenge 1.1: Create Plotly dash with two charts depends on different columns of the data\n",
    "- First Chart : Pie\n",
    "- Secound Chart: is by your Choice ( Not Pie )"
   ]
  },
  {
   "cell_type": "code",
   "execution_count": null,
   "metadata": {},
   "outputs": [],
   "source": []
  },
  {
   "cell_type": "markdown",
   "metadata": {},
   "source": [
    "# Challenge 1.2: Make Hovering over a slice of the pie changes the data for the second chart depending on what the slice is."
   ]
  },
  {
   "cell_type": "code",
   "execution_count": null,
   "metadata": {},
   "outputs": [],
   "source": []
  }
 ],
 "metadata": {
  "kernelspec": {
   "display_name": "Python 3 (ipykernel)",
   "language": "python",
   "name": "python3"
  },
  "language_info": {
   "codemirror_mode": {
    "name": "ipython",
    "version": 3
   },
   "file_extension": ".py",
   "mimetype": "text/x-python",
   "name": "python",
   "nbconvert_exporter": "python",
   "pygments_lexer": "ipython3",
   "version": "3.9.0"
  }
 },
 "nbformat": 4,
 "nbformat_minor": 4
}
